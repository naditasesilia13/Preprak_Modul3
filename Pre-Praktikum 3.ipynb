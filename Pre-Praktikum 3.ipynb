{
 "cells": [
  {
   "cell_type": "code",
   "execution_count": 4,
   "metadata": {},
   "outputs": [
    {
     "name": "stdout",
     "output_type": "stream",
     "text": [
      "OutputData : [35001, 58091, 72333]\n"
     ]
    }
   ],
   "source": [
    "def konversi_minggu(minggu):\n",
    "    def konversi_hari(hari):\n",
    "        def konversi_jam(jam):\n",
    "            def konversi_menit(menit):\n",
    "                return minggu * 7 * 24 * 60 + hari * 24 * 60 + jam * 60 + menit\n",
    "            return konversi_menit\n",
    "        return konversi_jam\n",
    "    return konversi_hari\n",
    "\n",
    "data = [\n",
    "    \"3 minggu 3 hari 7 jam 21 menit\",\n",
    "    \"5 minggu 5 hari 8 jam 11 menit\",\n",
    "    \"7 minggu 1 hari 5 jam 33 menit\"\n",
    "]\n",
    "outputdata = []\n",
    "\n",
    "for item in data:\n",
    "    parts = item.split()\n",
    "    minggu = int(parts[0])\n",
    "    hari = int(parts[2])\n",
    "    jam = int(parts[4])\n",
    "    menit = int(parts[6])\n",
    "    total_menit = konversi_minggu(minggu)(hari)(jam)(menit)\n",
    "    outputdata.append(total_menit)\n",
    "\n",
    "print(\"OutputData :\", outputdata)"
   ]
  },
  {
   "cell_type": "code",
   "execution_count": 5,
   "metadata": {},
   "outputs": [
    {
     "name": "stdout",
     "output_type": "stream",
     "text": [
      "['3', '3', '7', '21']\n",
      "['5', '5', '8', '11']\n",
      "['7', '1', '5', '33']\n"
     ]
    }
   ],
   "source": [
    "data = [\n",
    "    \"3 minggu 3 hari 7 jam 21 menit\",\n",
    "    \"5 minggu 5 hari 8 jam 11 menit\",\n",
    "    \"7 minggu 1 hari 5 jam 33 menit\"\n",
    "]\n",
    "\n",
    "integer_data = []\n",
    "\n",
    "for item in data:\n",
    "    parts = item.split()\n",
    "    integers = list(filter(lambda x: x.isdigit(), parts))\n",
    "    integer_data.append(integers)\n",
    "\n",
    "for item in integer_data:\n",
    "    print(item)"
   ]
  },
  {
   "cell_type": "code",
   "execution_count": 6,
   "metadata": {},
   "outputs": [
    {
     "name": "stdout",
     "output_type": "stream",
     "text": [
      "Data Float: (3.1, 2.7, 5.5)\n",
      "Data Int:\n",
      "{'ratusan': 1, 'puluhan': 0, 'satuan': 5}\n",
      "{'ratusan': 7, 'puluhan': 3, 'satuan': 7}\n",
      "{'ratusan': 4, 'puluhan': 1, 'satuan': 2}\n",
      "Data String: ['Hello', 'python', 'World', 'AI']\n"
     ]
    }
   ],
   "source": [
    "# Data list\n",
    "random_list = [105, 3.1, \"Hello\", 737, \"python\", 2.7, \"World\", 412, 5.5, \"AI\"]\n",
    "\n",
    "# Menggunakan filter() untuk memisahkan tipe data\n",
    "data_float = list(filter(lambda x: isinstance(x, float), random_list))\n",
    "data_int = list(filter(lambda x: isinstance(x, int), random_list))\n",
    "data_str = list(filter(lambda x: isinstance(x, str), random_list))\n",
    "\n",
    "# Fungsi untuk mencetak data int\n",
    "def print_data_int(num):\n",
    "    digits = [int(digit) for digit in str(num)]\n",
    "    if len(digits) == 3:\n",
    "        print({'ratusan': digits[0], 'puluhan': digits[1], 'satuan': digits[2]})\n",
    "    elif len(digits) == 2:\n",
    "        print({'ratusan': 0, 'puluhan': digits[0], 'satuan': digits[1]})\n",
    "    elif len(digits) == 1:\n",
    "        print({'ratusan': 0, 'puluhan': 0, 'satuan': digits[0]})\n",
    "\n",
    "# Mencetak data float\n",
    "print(\"Data Float:\", tuple(data_float))\n",
    "\n",
    "# Mencetak data int\n",
    "print(\"Data Int:\")\n",
    "list(map(print_data_int, data_int))\n",
    "\n",
    "# Mencetak data string\n",
    "print(\"Data String:\", data_str)\n"
   ]
  }
 ],
 "metadata": {
  "kernelspec": {
   "display_name": "base",
   "language": "python",
   "name": "python3"
  },
  "language_info": {
   "codemirror_mode": {
    "name": "ipython",
    "version": 3
   },
   "file_extension": ".py",
   "mimetype": "text/x-python",
   "name": "python",
   "nbconvert_exporter": "python",
   "pygments_lexer": "ipython3",
   "version": "3.9.12"
  }
 },
 "nbformat": 4,
 "nbformat_minor": 2
}
